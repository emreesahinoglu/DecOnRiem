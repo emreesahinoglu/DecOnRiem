{
 "cells": [
  {
   "cell_type": "code",
   "execution_count": 27,
   "metadata": {},
   "outputs": [],
   "source": [
    "import numpy as np\n",
    "import matplotlib.pyplot as plt\n",
    "import pickle \n",
    "import datetime\n",
    "import os \n",
    "\n",
    "\n",
    "def normalize(v):\n",
    "    return v / np.linalg.norm(v, axis=-1, keepdims=True)\n",
    "\n",
    "def log_map(x, y):\n",
    "    \"\"\"Log map on the sphere: maps y to tangent space at x\"\"\"\n",
    "    dot = np.sum(x * y, axis=-1, keepdims=True)\n",
    "    theta = np.arccos(np.clip(dot, -1.0, 1.0))\n",
    "    sin_theta = np.sin(theta)\n",
    "    direction = y - dot * x\n",
    "    direction = np.where(sin_theta == 0, 0, direction / sin_theta)\n",
    "    return theta * direction\n",
    "\n",
    "def exp_map(x, v):\n",
    "    \"\"\"Exp map on the sphere: maps vector in tangent space at x to the sphere\"\"\"\n",
    "    norm_v = np.linalg.norm(v, axis=-1, keepdims=True)\n",
    "    norm_v = np.where(norm_v == 0, 1, norm_v)  # prevent division by 0\n",
    "    return normalize(np.cos(norm_v) * x + np.sin(norm_v) * v / norm_v)\n",
    "\n",
    "\n",
    "def parallel_transport_sphere(x, y, v):\n",
    "    \"\"\"\n",
    "    Parallel transport of tangent vector v from x to y on the unit sphere.\n",
    "\n",
    "    Parameters:\n",
    "    - x: base point on sphere (shape: (d,))\n",
    "    - y: destination point on sphere (shape: (d,))\n",
    "    - v: tangent vector at x (shape: (d,), must satisfy dot(x, v) = 0)\n",
    "\n",
    "    Returns:\n",
    "    - transported vector in T_y(S^{d-1})\n",
    "    \"\"\"\n",
    "    x = x / np.linalg.norm(x)\n",
    "    y = y / np.linalg.norm(y)\n",
    "    dot_xy = np.dot(x, y)\n",
    "\n",
    "    if np.abs(dot_xy + 1) < 1e-6:\n",
    "        raise ValueError(\"x and y are antipodal; parallel transport is not uniquely defined.\")\n",
    "\n",
    "    coeff = np.dot(v, y) / (1 + dot_xy)\n",
    "    transported = v - coeff * (x + y)\n",
    "    \n",
    "    # Ensure result is in tangent space at y\n",
    "    transported -= np.dot(transported, y) * y\n",
    "    return transported\n",
    "\n",
    "def sample_uniform_tangent_vector(x, r):\n",
    "    \"\"\"\n",
    "    Sample uniformly from the ball of radius r in the tangent space T_x(S^{n-1}).\n",
    "\n",
    "    Parameters:\n",
    "    - x: point on the unit sphere (shape: (n,))\n",
    "    - r: radius of the ball in the tangent space\n",
    "\n",
    "    Returns:\n",
    "    - v: vector in T_x(S^{n-1}) with norm <= r\n",
    "    \"\"\"\n",
    "    n = x.shape[0]\n",
    "\n",
    "    # Step 1: Sample random vector from standard normal\n",
    "    z = np.random.randn(n)\n",
    "\n",
    "    # Step 2: Project onto tangent space at x\n",
    "    v = z - np.dot(z, x) * x\n",
    "\n",
    "    # Step 3: Normalize and scale\n",
    "    norm_v = np.linalg.norm(v)\n",
    "    if norm_v < 1e-10:\n",
    "        return sample_uniform_ball_tangent_space(x, r)  # Retry if projection is numerically unstable\n",
    "    v_unit = v / norm_v\n",
    "\n",
    "    # Step 4: Sample radius for uniform ball (not just sphere)\n",
    "    radius = r * np.random.rand()**(1.0 / (n - 1))\n",
    "    return radius * v_unit\n",
    "\n",
    "def sample_uniform_ball_tangent_space(x, r):\n",
    "    \"\"\"\n",
    "    Sample uniformly from the ball of radius r in the tangent space T_x(S^{n-1}).\n",
    "\n",
    "    Parameters:\n",
    "    - x: point on the unit sphere (shape: (n,))\n",
    "    - r: radius of the ball in the tangent space\n",
    "\n",
    "    Returns:\n",
    "    - v: vector in T_x(S^{n-1}) with norm <= r\n",
    "    \"\"\"\n",
    "    n = x.shape[0]\n",
    "\n",
    "    # Step 1: Sample random vector from standard normal\n",
    "    z = np.random.randn(n)\n",
    "\n",
    "    # Step 2: Project onto tangent space at x\n",
    "    v = z - np.dot(z, x) * x\n",
    "\n",
    "    # Step 3: Normalize and scale\n",
    "    norm_v = np.linalg.norm(v)\n",
    "    if norm_v < 1e-10:\n",
    "        return sample_uniform_ball_tangent_space(x, r)  # Retry if projection is numerically unstable\n",
    "    v_unit = v / norm_v\n",
    "\n",
    "    # Step 4: Sample radius for uniform ball (not just sphere)\n",
    "    radius = r * np.random.rand()**(1.0 / (n - 1))\n",
    "    return exp_map(x,radius * v_unit)\n",
    "\n",
    "\n",
    "def project_onto_geodesic_ball(x, y, r):\n",
    "    \"\"\"\n",
    "    Project y onto the geodesic ball of radius r centered at x on the sphere.\n",
    "\n",
    "    Parameters:\n",
    "    - x: center of geodesic ball (on sphere), shape (n,)\n",
    "    - y: point on the sphere, shape (n,)\n",
    "    - r: radius in radians (0 < r <= pi)\n",
    "\n",
    "    Returns:\n",
    "    - projected point on sphere (shape: (n,))\n",
    "    \"\"\"\n",
    "    x = x / np.linalg.norm(x)\n",
    "    y = y / np.linalg.norm(y)\n",
    "    \n",
    "    dot_xy = np.clip(np.dot(x, y), -1.0, 1.0)\n",
    "    theta = np.arccos(dot_xy)\n",
    "\n",
    "    if theta <= r:\n",
    "        return y  # already in the ball\n",
    "\n",
    "    # Step 1: compute direction vector in tangent space\n",
    "    v = y - dot_xy * x\n",
    "    norm_v = np.linalg.norm(v)\n",
    "    if norm_v < 1e-10:\n",
    "        raise ValueError(\"x and y are (numerically) identical or antipodal; projection undefined.\")\n",
    "\n",
    "    # Step 2: normalize and apply exponential map at radius r\n",
    "    v_unit = v / norm_v\n",
    "    return np.cos(r) * x + np.sin(r) * v_unit\n"
   ]
  },
  {
   "cell_type": "markdown",
   "metadata": {},
   "source": [
    "Consensus Step"
   ]
  },
  {
   "cell_type": "code",
   "execution_count": 2,
   "metadata": {},
   "outputs": [],
   "source": [
    "def fr_mean_step(points, W):\n",
    "    \"\"\"One consensus step via weighted log map + exponential map\"\"\"\n",
    "    n = len(points)\n",
    "    updated = []\n",
    "    for i in range(n):\n",
    "        logs = np.array([W[i, j] * log_map(points[i], points[j]) for j in range(n)])\n",
    "        tangent_mean = np.sum(logs, axis=0)\n",
    "        new_point = exp_map(points[i], tangent_mean)\n",
    "        updated.append(new_point)\n",
    "    return np.array(updated)"
   ]
  },
  {
   "cell_type": "markdown",
   "metadata": {},
   "source": [
    "Frechet mean computation"
   ]
  },
  {
   "cell_type": "code",
   "execution_count": 3,
   "metadata": {},
   "outputs": [],
   "source": [
    "\n",
    "def compute_frechet_mean(points, max_iter=100, tol=1e-6, step_size=1.0):\n",
    "    \"\"\"\n",
    "    Compute Fréchet mean on the hypersphere using gradient descent.\n",
    "    points: (n, d) array on the unit sphere\n",
    "    \"\"\"\n",
    "    mean = normalize(np.mean(points, axis=0, keepdims=True))\n",
    "    logs=np.zeros(points.shape)\n",
    "    n = points.shape[0]\n",
    "    d = points.shape[1]\n",
    "    for _ in range(max_iter):\n",
    "        for k in range(n):\n",
    "            logs[k]=log_map(mean,points[k,:])\n",
    "        # logs = np.array([log_map(mean, p) for p in points])\n",
    "        grad = np.sum(logs, axis=0)\n",
    "        update = step_size * grad / len(points)\n",
    "        mean_new = exp_map(mean, update[np.newaxis, :])\n",
    "        if np.linalg.norm(mean_new - mean) < tol:\n",
    "            break\n",
    "        mean = mean_new\n",
    "    return normalize(mean)[0].reshape(1,-1)\n",
    "\n",
    "def geodesic_variance(points, frechet_mean):\n",
    "    \"\"\"\n",
    "    Compute the geodesic variance of points on the sphere relative to the Fréchet mean.\n",
    "    \"\"\"\n",
    "    dots = np.clip(np.sum(points * frechet_mean, axis=-1), -1.0, 1.0)\n",
    "    dists = np.arccos(dots)\n",
    "    return np.mean(dists**2)\n",
    "\n",
    "def compute_variance(points,max_iter=100, tol=1e-6, step_size=1.0):\n",
    "    frechet_mean = compute_frechet_mean(points,max_iter=max_iter, tol=tol, step_size=step_size)\n",
    "    return geodesic_variance(points, frechet_mean)\n",
    "\n",
    "\n",
    "def mean_squared_geodesic_distance(x, points):\n",
    "    \"\"\"\n",
    "    Compute average of squared geodesic distances from x to a set of points on the sphere.\n",
    "\n",
    "    Parameters:\n",
    "    - x: base point on the sphere, shape (n,)\n",
    "    - points: array of points on the sphere, shape (N, n)\n",
    "\n",
    "    Returns:\n",
    "    - mean_squared_distance: scalar\n",
    "    \"\"\"\n",
    "    x = x / np.linalg.norm(x)\n",
    "    points = points / np.linalg.norm(points, axis=1, keepdims=True)\n",
    "\n",
    "    dots = np.clip(points @ x, -1.0, 1.0)  # inner products\n",
    "    angles = np.arccos(dots)              # geodesic distances\n",
    "    return np.mean(angles ** 2)\n",
    "\n",
    "def geod_dist(x,y):\n",
    "    dot = np.clip(y.T @ x, -1.0, 1.0)\n",
    "    return np.arccos(dot)"
   ]
  },
  {
   "cell_type": "code",
   "execution_count": 28,
   "metadata": {},
   "outputs": [],
   "source": [
    "def sample_gradient_bandit(x,p,delta,dim):\n",
    "    u = sample_uniform_tangent_vector(x, 1)\n",
    "    x2= exp_map(x,delta*u)\n",
    "    x1= exp_map(x,-delta*u)\n",
    "    g = 0.5*(dim/delta)*(geod_dist(x2,p)-geod_dist(x1,p))*u\n",
    "    return g"
   ]
  },
  {
   "cell_type": "code",
   "execution_count": 40,
   "metadata": {},
   "outputs": [
    {
     "name": "stdout",
     "output_type": "stream",
     "text": [
      "-6.938893903907228e-17\n",
      "1.6768742362204188\n"
     ]
    }
   ],
   "source": [
    "dim =16\n",
    "delta = np.pi/16\n",
    "x1 =np.random.randn(dim)\n",
    "x1 = normalize(x1)\n",
    "\n",
    "x2 =np.random.randn(dim)\n",
    "x2 = normalize(x2)\n",
    "\n",
    "# geod_dist(x1,x2)\n",
    "u = sample_uniform_tangent_vector(x2, 1)\n",
    "print(u.T@x2)\n",
    "\n",
    "g=sample_gradient_bandit(x2,x1,delta,dim)\n",
    "print(np.linalg.norm(g))"
   ]
  },
  {
   "cell_type": "code",
   "execution_count": 347,
   "metadata": {},
   "outputs": [],
   "source": [
    "def save_results(config,results):\n",
    "\n",
    "    data = {'config' : config, 'results' : results}\n",
    "    date_str = datetime.datetime.now().strftime(\"%m_%d_%H_%M_%S\")\n",
    "    # ora = config['oracle']\n",
    "    # trans=config['trans']\n",
    "    s = config['s']\n",
    "    lr = config['lr']\n",
    "    T = config['T']\n",
    "    pickle_file_name = f'results_bandit_adap/regret_T:{T}_lr:{lr:.5f}_s:{s}_{date_str}.pkl'\n",
    "    with open(pickle_file_name, 'wb') as handle:\n",
    "        pickle.dump(data, handle, protocol=pickle.HIGHEST_PROTOCOL)\n",
    "\n",
    "\n",
    "def read_file(result_folder,file):\n",
    "    file_name = os.path.join(result_folder,file)\n",
    "    file = open(file_name, 'rb')\n",
    "\n",
    "    # dump information to that file\n",
    "    data = pickle.load(file)\n",
    "\n",
    "    # close the file\n",
    "    file.close()\n",
    "\n",
    "    return data['results'],data['config']"
   ]
  },
  {
   "cell_type": "code",
   "execution_count": 348,
   "metadata": {},
   "outputs": [
    {
     "name": "stdout",
     "output_type": "stream",
     "text": [
      "Ring-based communication matrix W:\n",
      "[[0.33333333 0.33333333 0.         0.         0.         0.33333333]\n",
      " [0.33333333 0.33333333 0.33333333 0.         0.         0.        ]\n",
      " [0.         0.33333333 0.33333333 0.33333333 0.         0.        ]\n",
      " [0.         0.         0.33333333 0.33333333 0.33333333 0.        ]\n",
      " [0.         0.         0.         0.33333333 0.33333333 0.33333333]\n",
      " [0.33333333 0.         0.         0.         0.33333333 0.33333333]]\n"
     ]
    }
   ],
   "source": [
    "def generate_ring_communication_matrix(n, k):\n",
    "    \"\"\"\n",
    "    Generate a symmetric doubly stochastic matrix for a ring topology\n",
    "    where each node is connected to k neighbors on each side.\n",
    "\n",
    "    Parameters:\n",
    "    - n: Number of agents\n",
    "    - k: Number of neighbors on each side\n",
    "\n",
    "    Returns:\n",
    "    - W: n x n doubly stochastic matrix\n",
    "    \"\"\"\n",
    "    if k >= n // 2:\n",
    "        raise ValueError(\"k must be less than n/2 to avoid full connectivity\")\n",
    "\n",
    "    W = np.zeros((n, n))\n",
    "    \n",
    "    # Fill in symmetric weights\n",
    "    for i in range(n):\n",
    "        for offset in range(-k, k + 1):\n",
    "            j = (i + offset) % n\n",
    "            W[i, j] = 1\n",
    "\n",
    "    W /= W.sum(axis=1, keepdims=True)  # normalize rows to make it row-stochastic\n",
    "    return W\n",
    "\n",
    "# Example usage:\n",
    "n = 6      # number of agents\n",
    "k = 1      # each agent talks to 1 neighbor on each side (2 total neighbors)\n",
    "W = generate_ring_communication_matrix(n, k)\n",
    "\n",
    "print(\"Ring-based communication matrix W:\")\n",
    "print(W)\n"
   ]
  },
  {
   "cell_type": "code",
   "execution_count": 344,
   "metadata": {},
   "outputs": [],
   "source": [
    "def sim_generate_base(n_agents,dim,r1):\n",
    "    global_base= np.zeros(dim)\n",
    "    global_base[0]=1\n",
    "    base_agents = np.zeros((n_agents,dim))\n",
    "    for ag in range(n_agents):\n",
    "        base_agents[ag,:] = sample_uniform_ball_tangent_space(global_base, r1)\n",
    "        # base_agents = [ sample_uniform_ball_tangent_space(global_base, r) for ag in range(n_agents)]\n",
    "        # opt_action = compute_frechet_mean(np.array(base_agents))\n",
    "        # print(f'Optimum Action:{opt_action}')\n",
    "    return base_agents, global_base\n",
    "\n",
    "def generate_dataset(T,base_agents,global_base,r1,r2):\n",
    "    n_agents = base_agents.shape[0]\n",
    "    dim = base_agents.shape[1]\n",
    "    dataset = np.zeros((T,n_agents,dim))\n",
    "\n",
    "    for it in range(T):\n",
    "        # Gradient Step\n",
    "        for n in range(n_agents):\n",
    "            p = sample_uniform_ball_tangent_space(base_agents[n,:], r2)\n",
    "            p = project_onto_geodesic_ball(global_base, p, r1)\n",
    "            dataset[it,n,:]=p\n",
    "    return dataset\n",
    "\n",
    "\n",
    "\n",
    "def run_sim(T,base_agents,dataset,W,global_base,delta,adaptive=False,lr=1e-3,s=1e-1,r1=None,r2=None):\n",
    "    n_agents = base_agents.shape[0]\n",
    "    dim = base_agents.shape[1]\n",
    "\n",
    "    actions = np.zeros((T+1,n_agents,dim))\n",
    "    sampled_points = np.zeros((T,n_agents,dim))\n",
    "    y = np.zeros((n_agents,dim))\n",
    "    # grad_agents = np.zeros((n,dim))\n",
    "\n",
    "    init_point = sample_uniform_ball_tangent_space(global_base, r1)\n",
    "    for n in range(n_agents):\n",
    "        # actions[0,n,:]=global_base\n",
    "        actions[0,n,:]=init_point.copy()\n",
    "    # actions[0,:,:]=base_agents\n",
    "    # sampled_points[0,:,:]=base_agents\n",
    "    for it in range(1,T+1):\n",
    "        # Gradient Step\n",
    "        if adaptive:\n",
    "            ss=lr/np.sqrt(it)\n",
    "        else:\n",
    "            ss =lr\n",
    "        for n in range(n_agents):\n",
    "            # p = sample_uniform_ball_tangent_space(base_agents[n,:], r2)\n",
    "            # sampled_points[it-1,n,:]=p\n",
    "            p=dataset[it-1,n,:]\n",
    "            g=sample_gradient_bandit(actions[it-1,n,:],p,delta,dim)\n",
    "            y[n,:] = exp_map(actions[it-1,n,:],-ss*g)\n",
    "            y[n,:] = project_onto_geodesic_ball(global_base, y[n], r1)\n",
    "\n",
    "        # Communication Step\n",
    "        # print(n_agents)\n",
    "        for n in range(n_agents):\n",
    "            update= np.zeros((1,dim))\n",
    "            for k in range(n_agents):\n",
    "                update += s*W[n,k]*log_map(y[n],y[k])\n",
    "            actions[it,n,:]=exp_map(y[n],update) \n",
    "    \n",
    "    return actions\n",
    "\n",
    "def compute_regret(actions,sampled_points):\n",
    "    T= sampled_points.shape[0]\n",
    "    n_agents = sampled_points.shape[1]\n",
    "    dim = sampled_points.shape[2]\n",
    "    all_points = sampled_points.reshape(-1,dim)\n",
    "    global_opt=compute_frechet_mean(all_points).squeeze()\n",
    "    regret = np.zeros(T)\n",
    "    cum_regret = np.zeros(T)\n",
    "\n",
    "    for it in range(T):\n",
    "        cost = 0 \n",
    "        points_it = sampled_points[it,:,:]\n",
    "        for n in range(n_agents):\n",
    "            x= actions[it+1,n,:]\n",
    "            cost+= mean_squared_geodesic_distance(x, points_it)\n",
    "        \n",
    "        \n",
    "        regret[it] = cost - n_agents * mean_squared_geodesic_distance(global_opt, points_it)\n",
    "    return regret\n",
    "\n",
    "def run_sim_config(config):\n",
    "    T = config['T']\n",
    "    n_agents = config['n_agents']\n",
    "    k_nb=config['k_nb']\n",
    "    dim = config['dim']\n",
    "    r1 = config['r1']\n",
    "    r2 = config['r2']\n",
    "    lr = config['lr']\n",
    "    s = config['s']\n",
    "    delta = config['delta']\n",
    "    dataset = config['dataset']\n",
    "    W = config['W']\n",
    "    ad = bool(config['adap'])\n",
    "    base_agents=config['base_agents']\n",
    "    global_base=config['global_base']\n",
    "    # W = generate_ring_communication_matrix(n_agents, k_nb)\n",
    "    # base_agents,global_base = sim_generate_base(n_agents,dim,r1)\n",
    "    # dataset =generate_dataset(T,base_agents,r2=r2)\n",
    "    actions = run_sim(T,base_agents,dataset,W,global_base,delta,adaptive=ad,lr=lr,s=s,r1=r1,r2=r2)\n",
    "\n",
    "    regret = compute_regret(actions,dataset)\n",
    "    result ={'regret':regret,'actions':actions,'points':dataset}\n",
    "    return result"
   ]
  },
  {
   "cell_type": "code",
   "execution_count": 378,
   "metadata": {},
   "outputs": [
    {
     "name": "stdout",
     "output_type": "stream",
     "text": [
      "Learning Rate:0.1\n"
     ]
    },
    {
     "name": "stderr",
     "output_type": "stream",
     "text": [
      "/var/folders/g2/8d9n981s0qx9hvdvf16d48v80000gp/T/ipykernel_14351/3533723503.py:17: RuntimeWarning: divide by zero encountered in divide\n",
      "  direction = np.where(sin_theta == 0, 0, direction / sin_theta)\n",
      "/var/folders/g2/8d9n981s0qx9hvdvf16d48v80000gp/T/ipykernel_14351/3533723503.py:17: RuntimeWarning: invalid value encountered in divide\n",
      "  direction = np.where(sin_theta == 0, 0, direction / sin_theta)\n"
     ]
    },
    {
     "name": "stdout",
     "output_type": "stream",
     "text": [
      "Learning Rate:0.1\n",
      "Learning Rate:0.1\n",
      "Learning Rate:0.1\n",
      "Learning Rate:0.1\n",
      "Learning Rate:0.1\n",
      "Learning Rate:0.1\n",
      "Learning Rate:0.1\n",
      "Learning Rate:0.1\n",
      "Learning Rate:0.1\n",
      "Learning Rate:0.1\n",
      "Learning Rate:0.1\n",
      "Learning Rate:0.1\n",
      "Learning Rate:0.1\n",
      "Learning Rate:0.1\n",
      "Learning Rate:0.1\n",
      "Learning Rate:0.1\n",
      "Learning Rate:0.1\n",
      "Learning Rate:0.1\n",
      "Learning Rate:0.1\n",
      "Learning Rate:0.1\n",
      "Learning Rate:0.1\n",
      "Learning Rate:0.1\n",
      "Learning Rate:0.1\n"
     ]
    }
   ],
   "source": [
    "T=1000\n",
    "n_agents = 50\n",
    "dim = 16\n",
    "k_nb = 10\n",
    "np.random.seed(0)\n",
    "r1 = 0.225*np.pi\n",
    "r2 = np.pi/16\n",
    "delta = 0.25*np.pi - r1\n",
    "adap='True'\n",
    "\n",
    "# lr_val = [0.001,0.03,0.1,0.3,1]\n",
    "# s_val = [0.6,0.8,1,1.25,1.5]\n",
    "\n",
    "# lr_val = [0.03,0.1,0.3,1,3]\n",
    "# s_val = [0.6,0.8,1,1.2]\n",
    "\n",
    "# lr_val = [0.2,0.5,1]\n",
    "# s_val = [0.6,0.8,1,1.2]\n",
    "\n",
    "lr_val = [0.1]*8\n",
    "s_val = [0.8,1,1.2]\n",
    "\n",
    "W = generate_ring_communication_matrix(n_agents, k_nb)\n",
    "base_agents,global_base = sim_generate_base(n_agents,dim,r1)\n",
    "dataset =generate_dataset(T,base_agents,global_base,r1,r2)\n",
    "for s in s_val:\n",
    "    for lr1 in lr_val:\n",
    "        # lr = lr1/np.sqrt(T)\n",
    "        lr =lr1\n",
    "        print(f'Learning Rate:{lr}')       \n",
    "        config={'T':T,'n_agents':n_agents,'k_nb':k_nb,'dim':dim,'r1':r1,'r2':r2,'lr':lr,'s':s,'W':W,'delta':delta,'adap':adap,'dataset':dataset,'base_agents':base_agents,'global_base':global_base}\n",
    "        result = run_sim_config(config)\n",
    "\n",
    "        save_results(config,result)"
   ]
  },
  {
   "cell_type": "code",
   "execution_count": 95,
   "metadata": {},
   "outputs": [],
   "source": [
    "def order_file_names(files,lr_tup,s_tup):\n",
    "    file_dict={}\n",
    "    for lr in lr_tup:\n",
    "        file1 = [file for file in files if file.find(f'lr:{lr:.5f}')>0]\n",
    "        file_dict[f'{lr}']={}\n",
    "        for s in s_tup:\n",
    "            file2 = [file for file in file1 if file.find(f's:{s}_')>0]\n",
    "            file_dict[f'{lr}'][f'{s}'] = file2[0]\n",
    "    return file_dict\n",
    "\n",
    "# lr_tup= (0.005,0.015,0.05,0.15,0.5)\n",
    "# s_tup = (0.6,0.8,1,1.25,1.5)\n",
    "# file_dict = order_file_names(files,lr_tup,s_tup)\n",
    "# file_dict"
   ]
  },
  {
   "cell_type": "code",
   "execution_count": 67,
   "metadata": {},
   "outputs": [
    {
     "name": "stdout",
     "output_type": "stream",
     "text": [
      "['regret_T:2000_lr:0.00067_s:1.5_05_08_20_05_24.pkl', 'regret_T:2000_lr:0.00067_s:1_05_08_20_01_49.pkl', 'regret_T:2000_lr:0.00001_s:1.5_05_08_20_04_13.pkl', 'regret_T:2000_lr:0.00002_s:1.25_05_08_20_03_01.pkl', 'regret_T:2000_lr:0.00067_s:1.25_05_08_20_03_37.pkl', 'regret_T:2000_lr:0.00002_s:1.5_05_08_20_04_48.pkl', 'regret_T:2000_lr:0.00001_s:1.25_05_08_20_02_25.pkl', 'regret_T:2000_lr:0.00001_s:1_05_08_20_00_36.pkl', 'regret_T:2000_lr:0.00002_s:1_05_08_20_01_12.pkl']\n",
      "regret_T:2000_lr:0.00001_s:1.5_05_08_20_04_13.pkl\n",
      "lr:1e-05\n",
      "-1\n"
     ]
    },
    {
     "data": {
      "text/plain": [
       "[]"
      ]
     },
     "execution_count": 67,
     "metadata": {},
     "output_type": "execute_result"
    }
   ],
   "source": [
    "result_folder ='results_bandit/'\n",
    "files = [file for file in os.listdir(result_folder) if file.endswith('.pkl')]\n",
    "print(files)\n",
    "file1 = [file for file in files if file.find(f'lr:{0.00001}')>0]\n",
    "print(files[2])\n",
    "print('lr:'+str(0.00001))\n",
    "print(files[2].find('lr:'+str(0.00001)))\n",
    "file1"
   ]
  },
  {
   "cell_type": "code",
   "execution_count": 370,
   "metadata": {},
   "outputs": [
    {
     "data": {
      "image/png": "[encoded data removed]",
      "text/plain": [
       "<Figure size 1200x300 with 2 Axes>"
      ]
     },
     "metadata": {},
     "output_type": "display_data"
    }
   ],
   "source": [
    "result_folder ='results_bandit_adap/'\n",
    "files = [file for file in os.listdir(result_folder) if file.endswith('.pkl')]\n",
    "\n",
    "lr_tup= (0.00005,0.0015,0.005,0.015,0.05)\n",
    "s_tup= (0.6,0.8,1,1.25,1.5)\n",
    "\n",
    "lr_tup= (0.01,0.025,0.05,0.1)\n",
    "s_tup= (0.6,0.8,1,1.2)\n",
    "\n",
    "lr_tup= (0.1,0.1)\n",
    "s_tup= (0.6,0.8,1,1.2)\n",
    "\n",
    "\n",
    "file_dict = order_file_names(files,lr_tup,s_tup)\n",
    "\n",
    "style = ['b-s','r-s','g-s','m-s','b-*','r-*','g-*','m-*','b-s','r-s','g-s','m-s','b-*','r-*','g-*','m-*']\n",
    "markers=['s','+','^','o','v','2']\n",
    "colors = ['b','g','r','c','m']\n",
    "\n",
    "# fig, axs = plt.subplots(1, 5,figsize=(10, 8),sharey=True)\n",
    "fig, axs = plt.subplots(1, len(lr_tup),figsize=(12, 3),sharey=True)\n",
    "# fig, axs = plt.subplots(1, len(lr_tup),figsize=(12, 3))\n",
    "\n",
    "\n",
    "for k,lr_val in enumerate(lr_tup):\n",
    "    # file1= [file for file in files if file.find(f'lr:{lr_val}')>0]\n",
    "    \n",
    "    for idx,s in enumerate(s_tup):\n",
    "        file = file_dict[f'{lr_val}'][f'{s}']\n",
    "        results,config = read_file(result_folder,file)\n",
    "\n",
    "        regret = results['regret']\n",
    "        actions = results['actions']\n",
    "        sampled_points = results['points']\n",
    "        lr = config['lr']\n",
    "        s = config['s']\n",
    "        # regret = compute_regret(actions,sampled_points)\n",
    "\n",
    "\n",
    "        st = colors[idx]+'-'+markers[idx]\n",
    "        label = f's :{s}'\n",
    "        # ax1[0].plot(iterations,avg_grad_norm_pt,st,linewidth=1, markersize=4, markevery=20,label = label)\n",
    "        reg = np.cumsum(regret)\n",
    "        axs[k].plot(reg,st,linewidth=1, markersize=4, markevery=40,label = label)\n",
    "        axs[k].set_title(f'$\\eta$ : {lr_val}')\n",
    "        axs[k].legend()\n",
    "        axs[k].set_xlabel('Iterations')\n",
    "        axs[k].set_ylabel('Cumulative Regret')\n",
    "        axs[k].grid(True,axis='y')\n",
    "        # plt.title(f's = {s:.2f} Regret : {regret.sum():.4f}')\n",
    "\n",
    "    # plt.title(lr_val)\n",
    "    # plt.legend()\n",
    "plt.savefig('figures/regret_bandit_sphere_1.pdf', format=\"pdf\", bbox_inches=\"tight\")\n",
    "plt.show()\n",
    "\n"
   ]
  },
  {
   "cell_type": "code",
   "execution_count": 379,
   "metadata": {},
   "outputs": [
    {
     "name": "stdout",
     "output_type": "stream",
     "text": [
      "Learning Rate:0.05\n"
     ]
    },
    {
     "name": "stderr",
     "output_type": "stream",
     "text": [
      "/var/folders/g2/8d9n981s0qx9hvdvf16d48v80000gp/T/ipykernel_14351/3533723503.py:17: RuntimeWarning: invalid value encountered in divide\n",
      "  direction = np.where(sin_theta == 0, 0, direction / sin_theta)\n",
      "/var/folders/g2/8d9n981s0qx9hvdvf16d48v80000gp/T/ipykernel_14351/3533723503.py:17: RuntimeWarning: divide by zero encountered in divide\n",
      "  direction = np.where(sin_theta == 0, 0, direction / sin_theta)\n"
     ]
    }
   ],
   "source": [
    "T=1000\n",
    "n_agents = 50\n",
    "dim = 16\n",
    "k_nb = 10\n",
    "np.random.seed(0)\n",
    "r1 = 0.24*np.pi # run this 0.25 and lr 3e-1\n",
    "r2 = np.pi/16\n",
    "delta = 0.25*np.pi - r1\n",
    "adaptive = 'True'\n",
    "\n",
    "lr1 = 1\n",
    "s = 1\n",
    "\n",
    "\n",
    "W = generate_ring_communication_matrix(n_agents, k_nb)\n",
    "base_agents,global_base = sim_generate_base(n_agents,dim,r1)\n",
    "dataset =generate_dataset(T,base_agents,global_base,r1,r2)\n",
    "\n",
    "# lr = lr1/np.sqrt(T)\n",
    "lr =lr1\n",
    "print(f'Learning Rate:{lr}')       \n",
    "config={'T':T,'n_agents':n_agents,'k_nb':k_nb,'dim':dim,'r1':r1,'r2':r2,'lr':lr,'s':s,'W':W,'adap':adaptive,'delta':delta,'dataset':dataset,'base_agents':base_agents,'global_base':global_base}\n",
    "result = run_sim_config(config)\n",
    "\n",
    "plt.figure()\n",
    "plt.plot(np.cumsum(result['regret']))"
   ]
  },
  {
   "cell_type": "code",
   "execution_count": 316,
   "metadata": {},
   "outputs": [
    {
     "data": {
      "image/png": "[encoded data removed]",
      "text/plain": [
       "<Figure size 640x480 with 1 Axes>"
      ]
     },
     "metadata": {},
     "output_type": "display_data"
    }
   ],
   "source": [
    "ag_idx=2\n",
    "state_ag = result['actions'][:,ag_idx,:]\n",
    "dataset = result['actions']\n",
    "\n",
    "all_points = dataset.reshape(-1,dim)\n",
    "global_opt=compute_frechet_mean(all_points,max_iter=100, tol=1e-6, step_size=1).squeeze()\n",
    "\n",
    "dists = state_ag@global_opt\n",
    "\n",
    "plt.figure()\n",
    "\n",
    "plt.plot(dists)\n",
    "plt.grid()"
   ]
  },
  {
   "cell_type": "code",
   "execution_count": 197,
   "metadata": {},
   "outputs": [
    {
     "name": "stdout",
     "output_type": "stream",
     "text": [
      "[ 0.99530951  0.02137427 -0.01471064 -0.00235287 -0.02340453 -0.03447166\n",
      "  0.02526734  0.00700033 -0.0224388  -0.02797766  0.01501526 -0.04655183\n",
      "  0.01081751  0.04157895  0.01384195 -0.02324765]\n",
      "[ 0.99496877  0.02207579 -0.01458433 -0.0014483  -0.02479999 -0.03558718\n",
      "  0.02564886  0.00707025 -0.0237932  -0.02844691  0.01653426 -0.04813005\n",
      "  0.01142052  0.04335631  0.01380562 -0.02407575]\n",
      "0.003980825378857409\n",
      "(1000, 20, 16)\n"
     ]
    }
   ],
   "source": [
    "T=1000\n",
    "n_agents = 20\n",
    "dim = 16\n",
    "k_nb = 2\n",
    "np.random.seed(0)\n",
    "r1 = 0.2*np.pi\n",
    "r2 = np.pi/16\n",
    "delta = 0.1*r1\n",
    "\n",
    "lr1 = 5e-2\n",
    "s = 1.5\n",
    "\n",
    "W = generate_ring_communication_matrix(n_agents, k_nb)\n",
    "base_agents,global_base = sim_generate_base(n_agents,dim,r1)\n",
    "dataset =generate_dataset(T,base_agents,global_base,r1,r2)\n",
    "\n",
    "all_points = dataset.reshape(-1,dim)\n",
    "global_opt=compute_frechet_mean(all_points,max_iter=100, tol=1e-6, step_size=1).squeeze()\n",
    "mean_base = compute_frechet_mean(base_agents,max_iter=100, tol=1e-6, step_size=1).squeeze()\n",
    "\n",
    "\n",
    "print(global_opt)\n",
    "print(mean_base)\n",
    "print(np.linalg.norm(mean_base-global_opt))\n",
    "print(dataset.shape)\n"
   ]
  },
  {
   "cell_type": "code",
   "execution_count": 330,
   "metadata": {},
   "outputs": [
    {
     "data": {
      "text/plain": [
       "True"
      ]
     },
     "execution_count": 330,
     "metadata": {},
     "output_type": "execute_result"
    }
   ],
   "source": [
    "bool('True')"
   ]
  },
  {
   "cell_type": "code",
   "execution_count": null,
   "metadata": {},
   "outputs": [],
   "source": [
    "# Setup\n",
    "T = 200\n",
    "n_agents = 20\n",
    "dim = 16\n",
    "k_nb = 2\n",
    "# iterations = 100\n",
    "np.random.seed(0)\n",
    "r1 = np.pi/2\n",
    "r2 = np.pi/16\n",
    "# lr =1e-3\n",
    "lr = 5e-1/np.sqrt(T)\n",
    "s=1.5"
   ]
  },
  {
   "cell_type": "code",
   "execution_count": null,
   "metadata": {},
   "outputs": [
    {
     "name": "stderr",
     "output_type": "stream",
     "text": [
      "/var/folders/g2/8d9n981s0qx9hvdvf16d48v80000gp/T/ipykernel_8211/1610486643.py:17: RuntimeWarning: divide by zero encountered in divide\n",
      "  direction = np.where(sin_theta == 0, 0, direction / sin_theta)\n",
      "/var/folders/g2/8d9n981s0qx9hvdvf16d48v80000gp/T/ipykernel_8211/1610486643.py:17: RuntimeWarning: invalid value encountered in divide\n",
      "  direction = np.where(sin_theta == 0, 0, direction / sin_theta)\n"
     ]
    },
    {
     "data": {
      "image/png": "[encoded data removed]",
      "text/plain": [
       "<Figure size 640x480 with 1 Axes>"
      ]
     },
     "metadata": {},
     "output_type": "display_data"
    }
   ],
   "source": [
    "W = generate_ring_communication_matrix(n_agents, k_nb)\n",
    "base_agents,global_base = sim_generate_base(n_agents,dim,r1)\n",
    "actions,sampled_points = run_sim(T,base_agents,W,global_base,lr=lr,s=s,r1=r1,r2=r2)\n",
    "\n",
    "regret = compute_regret(actions,sampled_points)\n",
    "\n",
    "\n",
    "plt.figure()\n",
    "plt.plot(np.cumsum(regret))\n",
    "plt.title(f's = {s:.2f} Regret : {regret.sum():.4f}')\n",
    "plt.show()\n"
   ]
  },
  {
   "cell_type": "code",
   "execution_count": null,
   "metadata": {},
   "outputs": [
    {
     "name": "stdout",
     "output_type": "stream",
     "text": [
      "Second largest singular value : 0.9040294042680415\n"
     ]
    }
   ],
   "source": [
    "W = generate_ring_communication_matrix(n_agents, k_nb)\n",
    "\n",
    "eig,vals = np.linalg.eig(W)\n",
    "sigma2 = np.sort(np.abs(eig))[-2]\n",
    "print(f'Second largest singular value : {sigma2}')"
   ]
  },
  {
   "cell_type": "code",
   "execution_count": null,
   "metadata": {},
   "outputs": [
    {
     "name": "stderr",
     "output_type": "stream",
     "text": [
      "/var/folders/g2/8d9n981s0qx9hvdvf16d48v80000gp/T/ipykernel_94504/950253817.py:13: RuntimeWarning: invalid value encountered in divide\n",
      "  direction = np.where(sin_theta == 0, 0, direction / sin_theta)\n",
      "/var/folders/g2/8d9n981s0qx9hvdvf16d48v80000gp/T/ipykernel_94504/950253817.py:13: RuntimeWarning: divide by zero encountered in divide\n",
      "  direction = np.where(sin_theta == 0, 0, direction / sin_theta)\n"
     ]
    }
   ],
   "source": [
    "\n",
    "actions = np.zeros((T+1,n_agents,dim))\n",
    "sampled_points = np.zeros((T,n_agents,dim))\n",
    "y = np.zeros((n_agents,dim))\n",
    "# grad_agents = np.zeros((n,dim))\n",
    "actions[0,:,:]=base_agents\n",
    "sampled_points[0,:,:]=base_agents\n",
    "for it in range(1,T+1):\n",
    "    # Gradient Step\n",
    "    for n in range(n_agents):\n",
    "        p = sample_uniform_ball_tangent_space(base_agents[n,:], r2)\n",
    "        sampled_points[it-1,n,:]=p\n",
    "        y[n,:] = exp_map(actions[it-1,n,:],lr*log_map(actions[it-1,n,:],p))\n",
    "        y[n,:] = project_onto_geodesic_ball(global_base, y[n], r)\n",
    "\n",
    "    # Communication Step\n",
    "    # print(y)\n",
    "    for n in range(n_agents):\n",
    "        update= np.zeros((1,dim))\n",
    "        for k in range(n_agents):\n",
    "            update += s*W[n,k]*log_map(y[n],y[k])\n",
    "        actions[it,n,:]=exp_map(y[n],update)    \n",
    "        \n",
    "\n"
   ]
  },
  {
   "cell_type": "code",
   "execution_count": null,
   "metadata": {},
   "outputs": [],
   "source": [
    "all_points = sampled_points.reshape(-1,dim)\n",
    "global_opt=compute_frechet_mean(all_points).squeeze()\n",
    "regret = np.zeros(T)\n",
    "cum_regret = np.zeros(T)\n",
    "\n",
    "for it in range(T):\n",
    "    cost = 0 \n",
    "    points_it = sampled_points[it,:,:]\n",
    "    for n in range(n_agents):\n",
    "        x= actions[it+1,n,:]\n",
    "        cost+= mean_squared_geodesic_distance(x, points_it)\n",
    "    \n",
    "    \n",
    "    regret[it] = cost - n_agents * mean_squared_geodesic_distance(global_opt, points_it)\n",
    "    "
   ]
  },
  {
   "cell_type": "code",
   "execution_count": null,
   "metadata": {},
   "outputs": [
    {
     "data": {
      "text/plain": [
       "[<matplotlib.lines.Line2D at 0x12ef53340>]"
      ]
     },
     "execution_count": 219,
     "metadata": {},
     "output_type": "execute_result"
    },
    {
     "data": {
      "image/png": "[encoded data removed]",
      "text/plain": [
       "<Figure size 640x480 with 1 Axes>"
      ]
     },
     "metadata": {},
     "output_type": "display_data"
    }
   ],
   "source": [
    "plt.figure()\n",
    "plt.plot(np.cumsum(regret))"
   ]
  },
  {
   "cell_type": "code",
   "execution_count": null,
   "metadata": {},
   "outputs": [
    {
     "data": {
      "text/plain": [
       "array([[ 0.43902065,  0.1624307 , -0.18805231, -0.34949194,  0.03583199,\n",
       "         0.18525812, -0.04737389, -0.03201123, -0.39608487, -0.50517644,\n",
       "        -0.17055626, -0.03640556, -0.24587946,  0.08967109, -0.22839361,\n",
       "        -0.14605761],\n",
       "       [ 0.43897789,  0.16383915, -0.18826717, -0.3499208 ,  0.03542786,\n",
       "         0.18550309, -0.04681912, -0.03247196, -0.39612407, -0.50489428,\n",
       "        -0.1701394 , -0.03673737, -0.24620685,  0.08905136, -0.22725531,\n",
       "        -0.14604988],\n",
       "       [ 0.43911453,  0.16423644, -0.18833244, -0.3507856 ,  0.03491605,\n",
       "         0.18565347, -0.04659783, -0.03307213, -0.3964728 , -0.50444291,\n",
       "        -0.17009327, -0.03614603, -0.24572532,  0.08844572, -0.22650085,\n",
       "        -0.14606815],\n",
       "       [ 0.43928191,  0.1637184 , -0.18808575, -0.35162803,  0.03497452,\n",
       "         0.18549458, -0.04652939, -0.03384392, -0.39654344, -0.50438177,\n",
       "        -0.16961549, -0.03480085, -0.24521851,  0.08774695, -0.22676382,\n",
       "        -0.14623834],\n",
       "       [ 0.43952933,  0.16218303, -0.18782198, -0.35215203,  0.0352015 ,\n",
       "         0.18518884, -0.04673263, -0.03413582, -0.3962389 , -0.50478273,\n",
       "        -0.16945808, -0.03378664, -0.2448621 ,  0.08732479, -0.22738603,\n",
       "        -0.14623035],\n",
       "       [ 0.43968536,  0.16084363, -0.18792403, -0.35199311,  0.03543196,\n",
       "         0.18486323, -0.04688926, -0.03377937, -0.39597623, -0.50487631,\n",
       "        -0.16947877, -0.03372294, -0.24496525,  0.08739544, -0.22832391,\n",
       "        -0.14658355],\n",
       "       [ 0.43965776,  0.16044218, -0.18789669, -0.35111187,  0.03523884,\n",
       "         0.1849531 , -0.04718721, -0.03284502, -0.39594996, -0.50493166,\n",
       "        -0.17008306, -0.03451421, -0.24503176,  0.08815254, -0.22909579,\n",
       "        -0.14653211],\n",
       "       [ 0.43934858,  0.1611158 , -0.18792881, -0.34994714,  0.03555324,\n",
       "         0.18512622, -0.04727483, -0.03211749, -0.39612902, -0.50493741,\n",
       "        -0.17034631, -0.03558194, -0.24557011,  0.08928963, -0.22924415,\n",
       "        -0.14641712]])"
      ]
     },
     "execution_count": 185,
     "metadata": {},
     "output_type": "execute_result"
    }
   ],
   "source": [
    "actions[-1,:,:]"
   ]
  },
  {
   "cell_type": "code",
   "execution_count": null,
   "metadata": {},
   "outputs": [
    {
     "name": "stdout",
     "output_type": "stream",
     "text": [
      "[1. 0. 0.]\n",
      "[array([ 0.51162666,  0.48826008, -0.70699382]), array([ 0.2251578 ,  0.92139883, -0.31674621]), array([0.16889735, 0.57311335, 0.80188202]), array([ 0.22144923,  0.8457633 , -0.48543247]), array([ 0.32667587, -0.75727768,  0.56552047]), array([ 0.32050152,  0.94723633, -0.0047013 ]), array([ 0.75027503, -0.63330225, -0.18977789]), array([ 0.86039108, -0.45401959, -0.23150246])]\n",
      "(8, 3)\n",
      "Optimum Action:[[ 0.90952084  0.41139572 -0.05937509]]\n"
     ]
    },
    {
     "data": {
      "text/plain": [
       "(1, 3)"
      ]
     },
     "execution_count": 104,
     "metadata": {},
     "output_type": "execute_result"
    }
   ],
   "source": [
    "dim = 3\n",
    "n_agents = 8 \n",
    "r=np.pi/2\n",
    "global_base= np.zeros(dim)\n",
    "global_base[0]=1\n",
    "base_agents = [ sample_uniform_ball_tangent_space(global_base, r) for ag in range(n_agents)]\n",
    "print(global_base)\n",
    "print(base_agents)\n",
    "opt_action = compute_frechet_mean(np.array(base_agents))\n",
    "print(np.array(base_agents).shape)\n",
    "print(f'Optimum Action:{opt_action}')\n",
    "opt_action.shape"
   ]
  },
  {
   "cell_type": "code",
   "execution_count": null,
   "metadata": {},
   "outputs": [
    {
     "name": "stdout",
     "output_type": "stream",
     "text": [
      "Iter : 0 Variance : 1.187556\n",
      "Iter : 1 Variance : 0.911790\n",
      "Iter : 2 Variance : 0.709740\n",
      "Iter : 3 Variance : 0.541442\n",
      "Iter : 4 Variance : 0.400535\n",
      "Iter : 5 Variance : 0.287240\n",
      "Iter : 6 Variance : 0.200479\n",
      "Iter : 7 Variance : 0.136912\n",
      "Iter : 8 Variance : 0.091977\n",
      "Iter : 9 Variance : 0.061062\n",
      "Iter : 10 Variance : 0.040204\n",
      "Iter : 11 Variance : 0.026323\n",
      "Iter : 12 Variance : 0.017170\n",
      "Iter : 13 Variance : 0.011172\n",
      "Iter : 14 Variance : 0.007257\n",
      "Iter : 15 Variance : 0.004709\n",
      "Iter : 16 Variance : 0.003053\n",
      "Iter : 17 Variance : 0.001979\n",
      "Iter : 18 Variance : 0.001282\n",
      "Iter : 19 Variance : 0.000831\n",
      "Iter : 20 Variance : 0.000538\n",
      "Iter : 21 Variance : 0.000349\n",
      "Iter : 22 Variance : 0.000226\n",
      "Iter : 23 Variance : 0.000146\n",
      "Iter : 24 Variance : 0.000095\n",
      "Iter : 25 Variance : 0.000061\n",
      "Iter : 26 Variance : 0.000040\n",
      "Iter : 27 Variance : 0.000026\n",
      "Iter : 28 Variance : 0.000017\n",
      "Iter : 29 Variance : 0.000011\n",
      "Iter : 30 Variance : 0.000007\n",
      "Iter : 31 Variance : 0.000005\n",
      "Iter : 32 Variance : 0.000003\n",
      "Iter : 33 Variance : 0.000002\n",
      "Iter : 34 Variance : 0.000001\n",
      "Iter : 35 Variance : 0.000001\n",
      "Iter : 36 Variance : 0.000001\n",
      "Iter : 37 Variance : 0.000000\n",
      "Iter : 38 Variance : 0.000000\n",
      "Iter : 39 Variance : 0.000000\n",
      "Iter : 40 Variance : 0.000000\n",
      "Iter : 41 Variance : 0.000000\n",
      "Iter : 42 Variance : 0.000000\n",
      "Iter : 43 Variance : 0.000000\n",
      "Iter : 44 Variance : 0.000000\n",
      "Iter : 45 Variance : 0.000000\n",
      "Iter : 46 Variance : 0.000000\n",
      "Iter : 47 Variance : 0.000000\n",
      "Iter : 48 Variance : 0.000000\n",
      "Iter : 49 Variance : 0.000000\n",
      "Iter : 50 Variance : 0.000000\n",
      "Iter : 51 Variance : 0.000000\n",
      "Iter : 52 Variance : 0.000000\n",
      "Iter : 53 Variance : 0.000000\n",
      "Iter : 54 Variance : 0.000000\n",
      "Iter : 55 Variance : 0.000000\n",
      "Iter : 56 Variance : 0.000000\n",
      "Iter : 57 Variance : 0.000000\n",
      "Iter : 58 Variance : 0.000000\n",
      "Iter : 59 Variance : 0.000000\n",
      "Iter : 60 Variance : 0.000000\n",
      "Iter : 61 Variance : 0.000000\n",
      "Iter : 62 Variance : 0.000000\n",
      "Iter : 63 Variance : 0.000000\n",
      "Iter : 64 Variance : 0.000000\n",
      "Iter : 65 Variance : 0.000000\n",
      "Iter : 66 Variance : 0.000000\n",
      "Iter : 67 Variance : 0.000000\n",
      "Iter : 68 Variance : 0.000000\n",
      "Iter : 69 Variance : 0.000000\n",
      "Iter : 70 Variance : 0.000000\n",
      "Iter : 71 Variance : 0.000000\n",
      "Iter : 72 Variance : 0.000000\n",
      "Iter : 73 Variance : 0.000000\n",
      "Iter : 74 Variance : 0.000000\n",
      "Iter : 75 Variance : 0.000000\n",
      "Iter : 76 Variance : 0.000000\n",
      "Iter : 77 Variance : 0.000000\n",
      "Iter : 78 Variance : 0.000000\n",
      "Iter : 79 Variance : 0.000000\n",
      "Iter : 80 Variance : 0.000000\n",
      "Iter : 81 Variance : 0.000000\n",
      "Iter : 82 Variance : 0.000000\n",
      "Iter : 83 Variance : 0.000000\n",
      "Iter : 84 Variance : 0.000000\n",
      "Iter : 85 Variance : 0.000000\n",
      "Iter : 86 Variance : 0.000000\n",
      "Iter : 87 Variance : 0.000000\n",
      "Iter : 88 Variance : 0.000000\n",
      "Iter : 89 Variance : 0.000000\n",
      "Iter : 90 Variance : 0.000000\n",
      "Iter : 91 Variance : 0.000000\n",
      "Iter : 92 Variance : 0.000000\n",
      "Iter : 93 Variance : 0.000000\n",
      "Iter : 94 Variance : 0.000000\n",
      "Iter : 95 Variance : 0.000000\n",
      "Iter : 96 Variance : 0.000000\n",
      "Iter : 97 Variance : 0.000000\n",
      "Iter : 98 Variance : 0.000000\n",
      "Iter : 99 Variance : 0.000000\n",
      "Estimated Fréchet mean: [-0.18554873  0.11589269 -0.30551495  0.16726953  0.24772193  0.15868308\n",
      "  0.45287869  0.07322647  0.1584587  -0.31657322 -0.25167598  0.43877044\n",
      "  0.03416888  0.20990918 -0.10951836  0.30887321]\n"
     ]
    },
    {
     "name": "stderr",
     "output_type": "stream",
     "text": [
      "/var/folders/g2/8d9n981s0qx9hvdvf16d48v80000gp/T/ipykernel_94504/3526853296.py:13: RuntimeWarning: invalid value encountered in divide\n",
      "  direction = np.where(sin_theta == 0, 0, direction / sin_theta)\n",
      "/var/folders/g2/8d9n981s0qx9hvdvf16d48v80000gp/T/ipykernel_94504/3526853296.py:13: RuntimeWarning: divide by zero encountered in divide\n",
      "  direction = np.where(sin_theta == 0, 0, direction / sin_theta)\n"
     ]
    }
   ],
   "source": [
    "# Setup\n",
    "n_agents = 8\n",
    "dim = 16\n",
    "k_nb =1\n",
    "iterations = 100\n",
    "np.random.seed(0)\n",
    "\n",
    "# Random initial points on the sphere\n",
    "points = normalize(np.random.randn(n_agents, dim))\n",
    "\n",
    "# # Example of a doubly stochastic matrix (Metropolis-Hastings-like)\n",
    "# W = np.full((n_agents, n_agents), 1 / n_agents)\n",
    "\n",
    "W = generate_ring_communication_matrix(n_agents, k_nb)\n",
    "\n",
    "# Run consensus\n",
    "trajectory = [points]\n",
    "var_hist = np.zeros(iterations)\n",
    "for it in range(iterations):\n",
    "    points = fr_mean_step(points, W)\n",
    "    variance = compute_variance(points)\n",
    "    var_hist[it]=variance\n",
    "    print(f'Iter : {it} Variance : {variance:.6f}')\n",
    "    trajectory.append(points)\n",
    "\n",
    "# Final consensus estimate\n",
    "frechet_estimate = points.mean(axis=0)\n",
    "frechet_estimate = normalize(frechet_estimate)\n",
    "\n",
    "print(\"Estimated Fréchet mean:\", frechet_estimate.ravel())\n"
   ]
  },
  {
   "cell_type": "code",
   "execution_count": null,
   "metadata": {},
   "outputs": [
    {
     "name": "stderr",
     "output_type": "stream",
     "text": [
      "/var/folders/g2/8d9n981s0qx9hvdvf16d48v80000gp/T/ipykernel_94504/2091901067.py:3: RuntimeWarning: divide by zero encountered in log\n",
      "  plt.plot(np.log(var_hist), marker='o')\n"
     ]
    },
    {
     "data": {
      "text/plain": [
       "Text(0, 0.5, 'Norm of update')"
      ]
     },
     "execution_count": 25,
     "metadata": {},
     "output_type": "execute_result"
    },
    {
     "data": {
      "image/png": "[encoded data removed]",
      "text/plain": [
       "<Figure size 1000x400 with 1 Axes>"
      ]
     },
     "metadata": {},
     "output_type": "display_data"
    }
   ],
   "source": [
    "plt.figure(figsize=(10, 4))\n",
    "# plt.subplot(1, 2, 1)\n",
    "plt.plot(np.log(var_hist), marker='o')\n",
    "plt.title(\"Variance Convergence\")\n",
    "plt.xlabel(\"Iteration\")\n",
    "plt.ylabel(\"Norm of update\")"
   ]
  },
  {
   "cell_type": "code",
   "execution_count": null,
   "metadata": {},
   "outputs": [],
   "source": [
    "# result_folder = 'results/2' # D=1e-4\n",
    "# result_folder = 'results/3' # D=1e-4 ,5e-5\n",
    "\n",
    "\n",
    "fig1, ax1 = plt.subplots(1,2,figsize=(12,4))\n",
    "result_folder = 'results' # D=1e-4\n",
    "files = [file for file in os.listdir(result_folder) if file.endswith('.pkl') and file.startswith('first')]\n",
    "coef=0.05\n",
    "\n",
    "ptk=-1\n",
    "vtk=-1\n",
    "style = ['b-s','r-s','g-s','m-s','b-*','r-*','g-*','m-*','b-s','r-s','g-s','m-s','b-*','r-*','g-*','m-*']\n",
    "markers=['s','+','^','o','v','2']\n",
    "plt.figure()\n",
    "for file in files:\n",
    "    results,config = read_file(result_folder ,file)\n",
    "    D=config['D']\n",
    "    if D>4e-4:\n",
    "        continue\n",
    "\n",
    "    if file.startswith('first_pt'):\n",
    "        ptk+=1\n",
    "        st = 'b-'+markers[ptk]\n",
    "        tr_label = 'parallel \\t'\n",
    "        \n",
    "    if file.startswith('first_vt'):\n",
    "        vtk+=1\n",
    "        st = 'r-'+markers[vtk]\n",
    "        tr_label = 'projection'\n",
    "    \n",
    "    avg_grad_norm_pt = coef*results['avg_grad_norm_pt']\n",
    "    ora = config['oracle']\n",
    "    tra = config['trans']\n",
    "\n",
    "    num_iter = config['num_iter']\n",
    "    num_epoch = config['num_ep']\n",
    "    iterations = np.arange(0,num_iter*num_epoch,num_iter)\n",
    "    # D=config['D']\n",
    "    lr = config['lr']\n",
    "    label = f'{tr_label} D : {D:.1e} $\\eta$ : {lr:.1e}'\n",
    "    ax1[0].plot(iterations,avg_grad_norm_pt,st,linewidth=1, markersize=4, markevery=20,label = label)\n",
    "\n",
    "ax1[0].set_xlabel('Iterations')\n",
    "ax1[0].set_ylabel('Gradient Norm')\n",
    "ax1[0].set_title('First Order Oracle')\n",
    "ax1[0].legend()\n",
    "\n",
    "files = [file for file in os.listdir(result_folder) if file.endswith('.pkl') and file.startswith('zero')]\n",
    "\n",
    "ptk=-1\n",
    "vtk=-1\n",
    "style = ['b-s','r-s','g-s','m-s','b-*','r-*','g-*','m-*','b-s','r-s','g-s','m-s','b-*','r-*','g-*','m-*']\n",
    "markers=['s','+','^','o','v','2']\n",
    "# plt.figure()\n",
    "for file in files:\n",
    "    results,config = read_file(result_folder ,file)\n",
    "    D=config['D']\n",
    "\n",
    "    if D<8e-5:\n",
    "        continue\n",
    "    if D>9e-4:\n",
    "        continue\n",
    "    \n",
    "    if file.startswith('zero_pt'):\n",
    "        ptk+=1\n",
    "        st = 'b-'+markers[ptk]\n",
    "        tr_label='parallel '\n",
    "        \n",
    "    if file.startswith('zero_vt'):\n",
    "        vtk+=1\n",
    "        st = 'r-'+markers[vtk]\n",
    "        tr_label='projection'\n",
    "\n",
    "\n",
    "    avg_grad_norm_pt = coef*results['avg_grad_norm_pt']\n",
    "    ora = config['oracle']\n",
    "    tra = config['trans']\n",
    "\n",
    "    num_iter = config['num_iter']\n",
    "    num_epoch = config['num_ep']\n",
    "    iterations = np.arange(0,num_iter*num_epoch,num_iter)\n",
    "    # D=config['D']\n",
    "    lr = config['lr']\n",
    "    label = f'{tr_label.ljust(12)} D : {D:.1e} $\\eta$ : {lr:.1e}'\n",
    "    # label = label.replace('\\t','   ')\n",
    "    print(label)\n",
    "    ax1[1].plot(iterations,avg_grad_norm_pt,st,linewidth=1, markersize=4, markevery=30,label = label)\n",
    "\n",
    "ax1[1].set_xlabel('Iterations')\n",
    "ax1[1].set_ylabel('Gradient Norm')\n",
    "ax1[1].set_title('Zeroth Order Oracle')\n",
    "ax1[1].legend()\n",
    "\n",
    "# plt.savefig('figures/f13_Dim16_combined.pdf', format=\"pdf\", bbox_inches=\"tight\")\n",
    "\n",
    "\n",
    "# plt.savefig('figures/f13_Dim16_combined.pdf' , bbox_inches=\"tight\" )\n",
    "\n",
    "plt.show()\n",
    "    \n",
    "\n",
    "\n",
    "# plt.savefig('figures/f13_Dim16_first2.pdf', format=\"pdf\", bbox_inches=\"tight\")\n",
    "# plt.show()\n",
    "# plt.savefig('figures/f3_D1e4.pdf', format=\"pdf\", bbox_inches=\"tight\")\n",
    "\n",
    "    "
   ]
  }
 ],
 "metadata": {
  "kernelspec": {
   "display_name": "Python 3.10.8 64-bit",
   "language": "python",
   "name": "python3"
  },
  "language_info": {
   "codemirror_mode": {
    "name": "ipython",
    "version": 3
   },
   "file_extension": ".py",
   "mimetype": "text/x-python",
   "name": "python",
   "nbconvert_exporter": "python",
   "pygments_lexer": "ipython3",
   "version": "3.10.8"
  },
  "orig_nbformat": 4,
  "vscode": {
   "interpreter": {
    "hash": "aee8b7b246df8f9039afb4144a1f6fd8d2ca17a180786b69acc140d282b71a49"
   }
  }
 },
 "nbformat": 4,
 "nbformat_minor": 2
}
